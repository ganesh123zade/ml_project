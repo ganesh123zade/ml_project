{
 "cells": [
  {
   "cell_type": "code",
   "execution_count": 2,
   "id": "84e0e76e",
   "metadata": {},
   "outputs": [],
   "source": [
    "from skelearn.datasets import load_digits"
   ]
  },
  {
   "cell_type": "code",
   "execution_count": null,
   "id": "81a3af18",
   "metadata": {},
   "outputs": [],
   "source": [
    "df=load_digits()"
   ]
  },
  {
   "cell_type": "code",
   "execution_count": null,
   "id": "8ed0860a",
   "metadata": {},
   "outputs": [],
   "source": [
    "df"
   ]
  },
  {
   "cell_type": "code",
   "execution_count": null,
   "id": "17edaa84",
   "metadata": {},
   "outputs": [],
   "source": [
    "import sklearn\n",
    "df=sklearn.datasets.load_digits()"
   ]
  },
  {
   "cell_type": "code",
   "execution_count": null,
   "id": "1dca9d6b",
   "metadata": {},
   "outputs": [],
   "source": [
    "df.feature_names"
   ]
  },
  {
   "cell_type": "code",
   "execution_count": null,
   "id": "9ad1b543",
   "metadata": {},
   "outputs": [],
   "source": [
    "dir(df)"
   ]
  },
  {
   "cell_type": "code",
   "execution_count": null,
   "id": "c96cec87",
   "metadata": {},
   "outputs": [],
   "source": [
    "import matplotlib.pyplot as plt"
   ]
  },
  {
   "cell_type": "code",
   "execution_count": null,
   "id": "d8b8f52a",
   "metadata": {},
   "outputs": [],
   "source": [
    "plt.grey()\n",
    "#  plt.figure(figsize=(4,4))\n",
    "for i in range(4):\n",
    "    plt.matshow(df.images(i))"
   ]
  },
  {
   "cell_type": "code",
   "execution_count": null,
   "id": "9dceee68",
   "metadata": {},
   "outputs": [],
   "source": [
    "df=pd.DataFrame(df)\n",
    "df.di"
   ]
  },
  {
   "cell_type": "code",
   "execution_count": null,
   "id": "1fca5bc7",
   "metadata": {},
   "outputs": [],
   "source": []
  }
 ],
 "metadata": {
  "kernelspec": {
   "display_name": "Python 3 (ipykernel)",
   "language": "python",
   "name": "python3"
  },
  "language_info": {
   "codemirror_mode": {
    "name": "ipython",
    "version": 3
   },
   "file_extension": ".py",
   "mimetype": "text/x-python",
   "name": "python",
   "nbconvert_exporter": "python",
   "pygments_lexer": "ipython3",
   "version": "3.11.4"
  }
 },
 "nbformat": 4,
 "nbformat_minor": 5
}
