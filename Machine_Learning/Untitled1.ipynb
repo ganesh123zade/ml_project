{
 "cells": [
  {
   "cell_type": "code",
   "execution_count": 2,
   "id": "07de627a",
   "metadata": {},
   "outputs": [],
   "source": [
    "import pands as pd\n",
    "from sklearn.neighbors import KNeighborsClassifier"
   ]
  },
  {
   "cell_type": "code",
   "execution_count": null,
   "id": "fece05f5",
   "metadata": {},
   "outputs": [],
   "source": [
    "df=pd.read_csv('ins.csv')"
   ]
  },
  {
   "cell_type": "code",
   "execution_count": null,
   "id": "7b2ce035",
   "metadata": {},
   "outputs": [],
   "source": [
    "df"
   ]
  },
  {
   "cell_type": "code",
   "execution_count": null,
   "id": "c43a08f0",
   "metadata": {},
   "outputs": [],
   "source": [
    "x=df.drop('Insurance',axis='column')"
   ]
  },
  {
   "cell_type": "code",
   "execution_count": null,
   "id": "9255071e",
   "metadata": {},
   "outputs": [],
   "source": [
    "y=df['Insurance']"
   ]
  },
  {
   "cell_type": "code",
   "execution_count": null,
   "id": "f1fe287f",
   "metadata": {},
   "outputs": [],
   "source": [
    "model=KNeighborsClassifier(n_neighbors=3)"
   ]
  },
  {
   "cell_type": "code",
   "execution_count": null,
   "id": "105baa0c",
   "metadata": {},
   "outputs": [],
   "source": [
    "model.predict([[28,60,29]])"
   ]
  },
  {
   "cell_type": "code",
   "execution_count": null,
   "id": "bf9bca5d",
   "metadata": {},
   "outputs": [],
   "source": []
  }
 ],
 "metadata": {
  "kernelspec": {
   "display_name": "Python 3 (ipykernel)",
   "language": "python",
   "name": "python3"
  },
  "language_info": {
   "codemirror_mode": {
    "name": "ipython",
    "version": 3
   },
   "file_extension": ".py",
   "mimetype": "text/x-python",
   "name": "python",
   "nbconvert_exporter": "python",
   "pygments_lexer": "ipython3",
   "version": "3.11.4"
  }
 },
 "nbformat": 4,
 "nbformat_minor": 5
}
